num = int(input("Enter The Number : "))
if num > 1:
   for i in range(2,num):
       if (num % i) == 0:
           print(num,"is not a prime number")
           print(i,"times",num//i,"is",num)
           break
       else:
           print(num,"is a prime number")
           break
else:
   print(num,"is not a prime number")
Enter The Number : 13
13 is a prime number
write a python program to generate odd numbers from m to n using while loop

m = int(input("Enter the starting number : "))
n = int(input("Enter the Maximum Value : "))
while m <= n:
    if(m % 2 != 0):
        print("{0}".format(m))
    m = m + 1
Enter the starting number : 3
Enter the Maximum Value : 15
3
5
7
9
11
13
15
write a python program to display prime number series upto given number

m = int(input("Enter the starting number : "))
n = int(input("Enter the maximum value : "))
for i in range(m,n + 1):
   if i > 1:
       for j in range(2,i):
           if (i % j) == 0:
               break
       else:
           print(i)
Enter the starting number : 2
Enter the maximum value : 20
2
3
5
7
11
13
17
19
write a python program to generate a fibonacci series

no_of_terms = int(input ("How many terms the user wants to print? "))  
first_no = int(input("enter the first number : ")) 
second_no = int(input("enter the second number : "))  
count = 0   
if no_of_terms <= 0:  
    print ("Please enter a positive integer, the given number is not valid")  
elif no_of_terms == 1:  
    print ("The Fibonacci sequence of the numbers up to", no_of_terms, ": ")  
    print(first_no)  
else:  
    print ("The fibonacci sequence of the numbers is:")  
    while count < no_of_terms:  
        print(first_no)  
        nth = first_no + second_no 
        first_no = second_no  
        second_no = nth  
        count += 1
How many terms the user wants to print? 10
enter the first number : 2
enter the second number : 1
The fibonacci sequence of the numbers is:
2
1
3
4
7
11
18
29
47
76